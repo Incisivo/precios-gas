{
 "cells": [
  {
   "cell_type": "markdown",
   "id": "bd526639",
   "metadata": {},
   "source": [
    "# Precios medios de Gasolina y Gasóleo por Rótulos"
   ]
  },
  {
   "cell_type": "code",
   "execution_count": 103,
   "id": "e74455a8",
   "metadata": {},
   "outputs": [],
   "source": [
    "import pandas as pd\n",
    "import matplotlib.pyplot as plt"
   ]
  },
  {
   "cell_type": "code",
   "execution_count": 104,
   "id": "72942645",
   "metadata": {},
   "outputs": [],
   "source": [
    "gasolina = './precios_gasolina.csv'\n",
    "gasoleo = './precios_gasoleo.csv'\n",
    "\n",
    "def comparativa_precios(gasolina, gasoleo):\n",
    "    # Leer los archivos previamente guardados como \".csv\":\n",
    "    dfgasolina = pd.read_csv(gasolina, sep=\";\")\n",
    "    dfgasoleo = pd.read_csv(gasoleo, sep=\";\")\n",
    "       \n",
    "    # Convertir las comas a puntos y de texto a numero:\n",
    "    dfgasoleo[\"Precio\"] = dfgasoleo[\"Precio\"].str.replace(\",\", \".\").astype(float)\n",
    "    dfgasolina[\"Precio\"] = dfgasolina[\"Precio\"].str.replace(\",\", \".\").astype(float)\n",
    "    \n",
    "    # Calcular la media de una columna en cada archivo\n",
    "    rotulos = ['BALLENOIL', 'BP', 'CEPSA', 'GALP', 'REPSOL', 'SHELL']\n",
    "    rotulo_filtro_gasoleo = dfgasoleo.loc[dfgasoleo['Rótulo'].isin(rotulos)]\n",
    "    rotulo_filtro_gasolina = dfgasolina.loc[dfgasolina['Rótulo'].isin(rotulos)]\n",
    "    promedio_rotulos_gasolina = rotulo_filtro_gasolina.groupby('Rótulo')['Precio'].mean()\n",
    "    promedio_rotulos_gasoleo = rotulo_filtro_gasoleo.groupby('Rótulo')['Precio'].mean()\n",
    "    \n",
    "    tabla = pd.DataFrame({'Precio medio gasolina': promedio_rotulos_gasolina,\n",
    "                          'Precio medio gasoleo': promedio_rotulos_gasoleo})\n",
    "    \n",
    "    # Crear un gráfico de barras con las columnas de datos\n",
    "    tabla.plot(kind='bar', width=0.8, align='center')\n",
    "    plt.xticks(range(len(tabla)), rotulos)\n",
    "\n",
    "    # Establecer los límites del eje y\n",
    "    plt.ylim(1.3, 1.8)\n",
    "\n",
    "    # Etiquetas de los ejes y título del gráfico\n",
    "    plt.ylabel('Precio')\n",
    "    plt.xlabel('Rótulos')\n",
    "    plt.title('Precio medio por Rótulos')\n",
    "\n",
    "    # Mostrar el gráfico\n",
    "    plt.show()\n",
    "\n",
    "    return tabla"
   ]
  },
  {
   "cell_type": "code",
   "execution_count": 105,
   "id": "57ced9b2",
   "metadata": {
    "scrolled": false
   },
   "outputs": [
    {
     "data": {
      "image/png": "[encoded data removed]",
      "text/plain": [
       "<Figure size 640x480 with 1 Axes>"
      ]
     },
     "metadata": {},
     "output_type": "display_data"
    },
    {
     "data": {
      "text/html": [
       "<div>\n",
       "<style scoped>\n",
       "    .dataframe tbody tr th:only-of-type {\n",
       "        vertical-align: middle;\n",
       "    }\n",
       "\n",
       "    .dataframe tbody tr th {\n",
       "        vertical-align: top;\n",
       "    }\n",
       "\n",
       "    .dataframe thead th {\n",
       "        text-align: right;\n",
       "    }\n",
       "</style>\n",
       "<table border=\"1\" class=\"dataframe\">\n",
       "  <thead>\n",
       "    <tr style=\"text-align: right;\">\n",
       "      <th></th>\n",
       "      <th>Precio medio gasolina</th>\n",
       "      <th>Precio medio gasoleo</th>\n",
       "    </tr>\n",
       "    <tr>\n",
       "      <th>Rótulo</th>\n",
       "      <th></th>\n",
       "      <th></th>\n",
       "    </tr>\n",
       "  </thead>\n",
       "  <tbody>\n",
       "    <tr>\n",
       "      <th>BALLENOIL</th>\n",
       "      <td>1.561929</td>\n",
       "      <td>1.437980</td>\n",
       "    </tr>\n",
       "    <tr>\n",
       "      <th>BP</th>\n",
       "      <td>1.693653</td>\n",
       "      <td>1.579287</td>\n",
       "    </tr>\n",
       "    <tr>\n",
       "      <th>CEPSA</th>\n",
       "      <td>1.691442</td>\n",
       "      <td>1.573762</td>\n",
       "    </tr>\n",
       "    <tr>\n",
       "      <th>GALP</th>\n",
       "      <td>1.676444</td>\n",
       "      <td>1.552244</td>\n",
       "    </tr>\n",
       "    <tr>\n",
       "      <th>REPSOL</th>\n",
       "      <td>1.693526</td>\n",
       "      <td>1.568864</td>\n",
       "    </tr>\n",
       "    <tr>\n",
       "      <th>SHELL</th>\n",
       "      <td>1.663510</td>\n",
       "      <td>1.544664</td>\n",
       "    </tr>\n",
       "  </tbody>\n",
       "</table>\n",
       "</div>"
      ],
      "text/plain": [
       "           Precio medio gasolina  Precio medio gasoleo\n",
       "Rótulo                                                \n",
       "BALLENOIL               1.561929              1.437980\n",
       "BP                      1.693653              1.579287\n",
       "CEPSA                   1.691442              1.573762\n",
       "GALP                    1.676444              1.552244\n",
       "REPSOL                  1.693526              1.568864\n",
       "SHELL                   1.663510              1.544664"
      ]
     },
     "execution_count": 105,
     "metadata": {},
     "output_type": "execute_result"
    }
   ],
   "source": [
    "comparativa_precios(gasolina, gasoleo)"
   ]
  },
  {
   "cell_type": "code",
   "execution_count": null,
   "id": "282fdb64",
   "metadata": {},
   "outputs": [],
   "source": []
  }
 ],
 "metadata": {
  "kernelspec": {
   "display_name": "Python 3 (ipykernel)",
   "language": "python",
   "name": "python3"
  },
  "language_info": {
   "codemirror_mode": {
    "name": "ipython",
    "version": 3
   },
   "file_extension": ".py",
   "mimetype": "text/x-python",
   "name": "python",
   "nbconvert_exporter": "python",
   "pygments_lexer": "ipython3",
   "version": "3.10.9"
  }
 },
 "nbformat": 4,
 "nbformat_minor": 5
}
